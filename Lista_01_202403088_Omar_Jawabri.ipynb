{
  "nbformat": 4,
  "nbformat_minor": 0,
  "metadata": {
    "colab": {
      "provenance": [],
      "authorship_tag": "ABX9TyOuaknR7eOiIJz8f23krRem",
      "include_colab_link": true
    },
    "kernelspec": {
      "name": "python3",
      "display_name": "Python 3"
    },
    "language_info": {
      "name": "python"
    }
  },
  "cells": [
    {
      "cell_type": "markdown",
      "metadata": {
        "id": "view-in-github",
        "colab_type": "text"
      },
      "source": [
        "<a href=\"https://colab.research.google.com/github/OmarJawabri/ip-2024-01/blob/main/Lista_01_202403088_Omar_Jawabri.ipynb\" target=\"_parent\"><img src=\"https://colab.research.google.com/assets/colab-badge.svg\" alt=\"Open In Colab\"/></a>"
      ]
    },
    {
      "cell_type": "code",
      "execution_count": null,
      "metadata": {
        "id": "aZWI-ZeEIwF5"
      },
      "outputs": [],
      "source": [
        "Questão 1\n",
        "\n",
        "Leia (nota1, nota2, nota3)\n",
        "MEDIA <- (nota1 + nota2 + nota3)/3\n",
        "Se MEDIA >= 6 então\n",
        "Imprime (MEDIA)\n",
        "Imprime (\"APROVADO\")\n",
        "Senão\n",
        "Imprime (MEDIA)\n",
        "Imprime (\"REPROVADO\")\n",
        "'/n'\n"
      ]
    },
    {
      "cell_type": "code",
      "source": [
        "Questão 2\n",
        "\n",
        "n <- 1\n",
        "Leia (numeroDeCasos)\n",
        "Imprime (numeroDeCasos)\n",
        "Enquanto numeroDeCasos >= n\n",
        "  Leia (PublicoTotal) Leia (porcentagemPopular) Leia (porcentagemGeral) Leia (porcentagemArquibancada) Leia (porcentagemCadeira)\n",
        "  Popular <- (porcentagemPopular/100)*PublicoTotal\n",
        "  Geral <- (porcentagemGeral/100)*PublicoTotal\n",
        "  Arquibancada <- (porcentagemArquibancada/100)*PublicoTotal\n",
        "  Cadeira <- (porcentagemCadeira/100)*PublicoTotal\n",
        "  RendaDoJogo <- Popular + Geral*5 + Arquibancada*10 + Cadeira*20\n",
        "  Imprime (\"A RENDA DO JOGO N.\", n ,\"E =\", RendaDoJogo:4:2)\n",
        "  n <- n + 1"
      ],
      "metadata": {
        "id": "XzETD85WLQ8v"
      },
      "execution_count": null,
      "outputs": []
    },
    {
      "cell_type": "code",
      "source": [
        "Questão 3\n",
        "\n",
        "Leia (n1)\n",
        "Leia (n2)\n",
        "Leia (n3)\n",
        "Imprime (\"n1\" + \"n2\" + \"n3\")\n",
        "Imprime (\"n1\" + \"n2\" + \"n3\")*(\"n1\" + \"n2\" + \"n3\")\n",
        "Se n1 > 9 então\n",
        "Imprime (\"DIGITO INVALIDO\")\n",
        "Se n2 > 9 então\n",
        "Imprime (\"DIGITO INVALIDO\")\n",
        "Se n3 > 9 então\n",
        "Imprime (\"DIGITO INVALIDO\")"
      ],
      "metadata": {
        "id": "uqlToo4MU9c3"
      },
      "execution_count": null,
      "outputs": []
    },
    {
      "cell_type": "code",
      "source": [
        "Questão 4\n",
        "\n",
        "Leia (SalarioMinimo)\n",
        "Leia (KwGastos)\n",
        "CustoPorKw <- SalarioMinimo*0.007\n",
        "Imprime (\"Custo por kw: R$ \", CustoPorKw:4:2)\n",
        "CustoDoConsumo <- KwGastos*CustoPorKw\n",
        "Imprime (\"Custo do consumo: R$ \", CustoDoConsumo:4:2)\n",
        "CustoComDesconto <- CustoDoConsumo*0.9\n",
        "Imprime (\"Custo com desconto: R$ \", CustoComDesconto:4:2)"
      ],
      "metadata": {
        "id": "RDodUYxT57mm"
      },
      "execution_count": null,
      "outputs": []
    },
    {
      "cell_type": "code",
      "source": [
        "Questão 5\n",
        "\n",
        "Leia (ContaDoCliente)\n",
        "Leia (ConsumoAguaMC)\n",
        "Leia (TipoConsumidor)\n",
        "Se TipoConsumidor = \"R\" então\n",
        "  ValorConta <- 5 + 0.05*ConsumoAguaMC\n",
        "Se TipoConsumidor = \"C\" então\n",
        "  Se ConsumoAguaMC <= 80 então\n",
        "    ValorConta <- 500\n",
        "  Senao\n",
        "    Excedente <- ConsumoAguaMC - 80\n",
        "    ValorConta <- 500 + 0.25*Excedente\n",
        "Se TipoConsumidor = \"I\" então\n",
        "  Se ConsumoAguaMC <= 100 então\n",
        "    ValorConta <- 800\n",
        "  Senao\n",
        "    Excedente <- ConsumoAguaMC - 100\n",
        "    ValorConta <- 800 + 0.04*Excedente\n",
        "Imprime (\"CONTA = \", ContaDoCliente)\n",
        "'\\n'\n",
        "Imprime (\"VALOR DA CONTA =\", ValorConta:4:2)\n",
        "'\\n'"
      ],
      "metadata": {
        "id": "YG1WIPpBB-H1"
      },
      "execution_count": null,
      "outputs": []
    },
    {
      "cell_type": "code",
      "source": [
        "Questão 6\n",
        "\n",
        "n <- 1\n",
        "Leia (QtdDeValores)\n",
        "Imprime (QtdDeValores)\n",
        "Enquanto QtdDeValores >= n\n",
        "  Leia (ValorFahrenheit)\n",
        "  ValorCelsius <- 5*(ValorFahrenheit-32)/9\n",
        "  Imprime (ValorFahrenheit:4:2, \" FAHRENHEIT EQUIVALE A \", ValorCelsius:4:2, \" CELSIUS\")\n",
        "  n <- n + 1"
      ],
      "metadata": {
        "id": "9ni6CT4rJW0m"
      },
      "execution_count": null,
      "outputs": []
    },
    {
      "cell_type": "code",
      "source": [
        "Questão 7\n",
        "\n",
        "Leia (Fahrenheit)\n",
        "Leia (Polegadas)\n",
        "Celsius <- (5*Fahrenheit - 160)/9\n",
        "QtdChuva <- Polegadas*25.4\n",
        "Imprime (\"O VALOR EM CELSIUS = \", Celsius:4:2)\n",
        "Imprime (\"A QUANTIDADE DE CHUVA E = \", QtdChuva:4:2)\n",
        "'\\n'"
      ],
      "metadata": {
        "id": "yiei-BIcMLEE"
      },
      "execution_count": null,
      "outputs": []
    },
    {
      "cell_type": "code",
      "source": [
        "Questão 8\n",
        "\n",
        "Leia (RaioLata)\n",
        "Leia (AlturaLata)\n",
        "pi <- 3.14159\n",
        "Ac <- pi*RaioLata^2\n",
        "Al <- 2*pi*RaioLata*AlturaLata\n",
        "At <- 2*Ac + Al\n",
        "Custo <- 100*At\n",
        "Imprime (\"O VALOR DO CUSTO E = \", Custo:4:2)\n",
        "'\\n'\n"
      ],
      "metadata": {
        "id": "2DhlLFfhP7B3"
      },
      "execution_count": null,
      "outputs": []
    },
    {
      "cell_type": "code",
      "source": [
        "Questão 9\n",
        "\n",
        "Leia (CoefA)\n",
        "Leia (CoefB)\n",
        "Leia (CoefC)\n",
        "Delta <- CoefB^2 - 4*CoefA*CoefC\n",
        "Imprime (\"O VALOR DE DELTA E = \", Delta4:2)\n",
        "'\\n'"
      ],
      "metadata": {
        "id": "u2anpONKUY9A"
      },
      "execution_count": null,
      "outputs": []
    },
    {
      "cell_type": "code",
      "source": [
        "Questão 10\n",
        "\n",
        "Leia (ValorA)\n",
        "Leia (ValorB)\n",
        "Leia (ValorC)\n",
        "Leia (ValorD)\n",
        "Determinante <- ValorA*ValorD - ValorB*ValorC\n",
        "Imprime (\"O VALOR DO DETERMINE E = \", Determinante:4:2)\n",
        "'\\n'"
      ],
      "metadata": {
        "id": "SZBW8f8oVIfz"
      },
      "execution_count": null,
      "outputs": []
    },
    {
      "cell_type": "code",
      "source": [
        "Questão 11\n",
        "\n",
        "Leia (Numero)\n",
        "Se (Numero % 3 = 0) e (Numero % 5 = 0) então\n",
        "  Imprime (\"O NUMERO E DIVISIVEL\")\n",
        "Senao\n",
        "  Imprime (\"O NUMERO NAO E DIVISIVEL\")\n",
        "'\\n'"
      ],
      "metadata": {
        "id": "KnkCSwXPXNen"
      },
      "execution_count": null,
      "outputs": []
    },
    {
      "cell_type": "code",
      "source": [
        "Questão 12\n",
        "\n",
        "Leia (Horas)\n",
        "Valor <- ((Horas - Horas % 3)/3)*10 + (Horas % 3)*5\n",
        "Imprime (\"O VALOR A PAGAR E = \", Valor:4:2)\n",
        "'\\n'"
      ],
      "metadata": {
        "id": "zDw-he1MZuNd"
      },
      "execution_count": null,
      "outputs": []
    },
    {
      "cell_type": "code",
      "source": [
        "Questão 13\n",
        "\n",
        "Leia (Nota)\n",
        "Se (Nota > 9) então\n",
        "  Conceito <- \"A\"\n",
        "Senao\n",
        "Se (Nota > 7.5) e (Nota <= 9), então\n",
        "  Conceito <- \"B\"\n",
        "Senao\n",
        "Se (Nota >= 6) e (Nota <= 7.5), então\n",
        "  Conceito <- \"C\"\n",
        "Senao\n",
        "  Conceito <- \"D\"\n",
        "Imprime (\"NOTA = \", Nota:4:1, \"CONCEITO = \", Conceito)\n",
        "'\\n'"
      ],
      "metadata": {
        "id": "b2loa_L25zsc"
      },
      "execution_count": null,
      "outputs": []
    },
    {
      "cell_type": "code",
      "source": [
        "Questão 14\n",
        "\n",
        "Leia (Altura)\n",
        "Leia (Aresta)\n",
        "AreaH <- 3*(Aresta)^2*RaizQ(3)/2\n",
        "Volume <- 1/3*AreaH*Altura\n",
        "Imprime (\"O VOLUME DA PIRAMIDE E = \", Volume:4:2, \" METROS CUBICOS\")\n",
        "'\\n'"
      ],
      "metadata": {
        "id": "5XX1_IZ3__yG"
      },
      "execution_count": null,
      "outputs": []
    },
    {
      "cell_type": "code",
      "source": [
        "Questão 15\n",
        "\n",
        "Leia (N)\n",
        "x <- 2\n",
        "Se (N > 5) e (N < 2000) então\n",
        "  Se N % 2 = 0 então\n",
        "  Enquanto N >= x\n",
        "    Imprime (x,\"^2 = \", (x)*(x))\n",
        "    x <- x + 2\n",
        "  Senao\n",
        "  Enquanto (N - 1) >= x\n",
        "    Imprime (x,\"^2 = \", (x)*(x))\n",
        "    x <- x + 2\n",
        "Senao\n",
        "  Imprime (\"Numero Invalido!\")\n",
        "'\\n'"
      ],
      "metadata": {
        "id": "xnVcfDWQDTPO"
      },
      "execution_count": null,
      "outputs": []
    },
    {
      "cell_type": "code",
      "source": [
        "Questão 16\n",
        "\n",
        "Leia (SalarioFuncionario)\n",
        "Se SalarioFuncionario <= 300 então\n",
        "Reajuste <- SalarioFuncionario*1.5\n",
        "Senao\n",
        "Reajuste <- SalarioFuncionario*1.3\n",
        "Imprime (\"SALARIO COM REAJUSTE = \", Reajuste:4:2)\n",
        "'\\n'"
      ],
      "metadata": {
        "id": "8CMblPsaNdFe"
      },
      "execution_count": null,
      "outputs": []
    },
    {
      "cell_type": "code",
      "source": [
        "Questão 17\n",
        "\n",
        "n <- 0\n",
        "Leia (x) Leia(y)\n",
        "Se (x % 2 = 0) então\n",
        "  Enquanto y > n\n",
        "    Imprime (x)\n",
        "    x <- x + 2\n",
        "    n <- n + 1\n",
        "Senao\n",
        "  Imprime (\"O PRIMEIRO NUMERO NAO E PAR\")"
      ],
      "metadata": {
        "id": "1POjl7biOTIk"
      },
      "execution_count": null,
      "outputs": []
    },
    {
      "cell_type": "code",
      "source": [
        "Questão 18\n",
        "\n",
        "x <- 2\n",
        "Leia(a1) Leia(r) Leia(n)\n",
        "SomaNumeros <- a1\n",
        "r1 <- r\n",
        "Enquanto n >= x\n",
        "  SomaNumeros <- SomaNumeros + a1 + r\n",
        "  r <- r + r1\n",
        "  x <- x + 1\n",
        "Imprime (SomaNumeros)\n",
        "'\\n'"
      ],
      "metadata": {
        "id": "xP1d5P02QEkd"
      },
      "execution_count": null,
      "outputs": []
    },
    {
      "cell_type": "code",
      "source": [
        "Questão 19\n",
        "\n",
        "x <- 1\n",
        "Leia (n)\n",
        "Se n > 1 então\n",
        "  Enquanto n >= x\n",
        "    Soma <- Soma + 1/x\n",
        "    x <- x + 1\n",
        "  Imprime (Soma:8:6)\n",
        "Senao\n",
        "  Imprime (\"Numero Invalido!\")\n"
      ],
      "metadata": {
        "id": "h7FjLjAQZdGy"
      },
      "execution_count": null,
      "outputs": []
    },
    {
      "cell_type": "code",
      "source": [
        "Questão 20\n",
        "\n",
        "Leia (Horas)\n",
        "Leia (Minutos)\n",
        "Leia (Segundos)\n",
        "TempoSegundos <- Horas*3600 + Minutos*60 + Segundos\n",
        "Imprime (\"O VALOR EM SEGUNDOS E = \", TempoSegundos)\n",
        "'\\n'"
      ],
      "metadata": {
        "id": "N9QR3EpDa209"
      },
      "execution_count": null,
      "outputs": []
    }
  ]
}